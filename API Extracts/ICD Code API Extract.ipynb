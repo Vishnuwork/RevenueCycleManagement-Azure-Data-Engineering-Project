{
 "cells": [
  {
   "cell_type": "code",
   "execution_count": 0,
   "metadata": {
    "application/vnd.databricks.v1+cell": {
     "cellMetadata": {
      "byteLimit": 2048000,
      "rowLimit": 10000
     },
     "inputWidgets": {},
     "nuid": "09ef9bfe-bc4f-4381-935d-491bc293c12c",
     "showTitle": false,
     "tableResultSettingsMap": {},
     "title": ""
    }
   },
   "outputs": [],
   "source": [
    "import requests\n",
    "from pyspark.sql import SparkSession\n",
    "from pyspark.sql.functions import current_date, lit\n",
    "from datetime import datetime\n",
    "from pyspark.sql.types import StructType, StructField, StringType, DateType, BooleanType\n",
    "\n",
    "\n",
    "\n",
    "client_id = '0bafc5e7-c27f-47a5-91ea-d59cdd04330a_07b41151-43f8-4b78-bd13-ce305027a59b'\n",
    "client_secret = 'KVT7WWXpPr7KHGXEs85OuIROtTazNwtITDl7hdyr2kE='\n",
    "base_url = 'https://id.who.int/icd/'\n",
    "current_date=datetime.now().date()\n",
    "\n",
    "auth_url = 'https://icdaccessmanagement.who.int/connect/token'\n",
    "auth_response = requests.post(auth_url, data={\n",
    "    'client_id': client_id,\n",
    "    'client_secret': client_secret,\n",
    "    'grant_type': 'client_credentials'\n",
    "})\n",
    "\n",
    "if auth_response.status_code == 200:\n",
    "    access_token = auth_response.json().get('access_token')\n",
    "else:\n",
    "    raise Exception(f\"Failed to obtain access token: {auth_response.status_code} - {auth_response.text}\")\n",
    "\n",
    "headers = {\n",
    "    'Authorization': f'Bearer {access_token}',\n",
    "    'API-Version': 'v2',  # Add the API-Version header\n",
    "    'Accept-Language': 'en',\n",
    "}\n",
    "\n",
    "def fetch_icd_codes(url):\n",
    "    response = requests.get(url, headers=headers)\n",
    "    if response.status_code == 200:\n",
    "        return response.json()\n",
    "    else:\n",
    "        raise Exception(f\"Failed to fetch data: {response.status_code} - {response.text}\")\n",
    "\n",
    "def extract_codes(url):\n",
    "    data = fetch_icd_codes(url)\n",
    "    codes = []\n",
    "    if 'child' in data:\n",
    "        for child_url in data['child']:\n",
    "            codes.extend(extract_codes(child_url))\n",
    "    else:\n",
    "        if 'code' in data and 'title' in data:\n",
    "            # print(data['code'],data['title']['@value'])\n",
    "            codes.append({\n",
    "                'icd_code': data['code'],\n",
    "                'icd_code_type': 'ICD-10',\n",
    "                'code_description': data['title']['@value'],\n",
    "                'inserted_date': current_date,\n",
    "                'updated_date': current_date,\n",
    "                'is_current_flag': True\n",
    "            })\n",
    "    return codes\n",
    "\n",
    "# Start from the root URL\n",
    "root_url = 'https://id.who.int/icd/release/10/2019/A00-A09'\n",
    "icd_codes = extract_codes(root_url)\n",
    "\n",
    "\n",
    "# Define the schema explicitly\n",
    "schema = StructType([\n",
    "    StructField(\"icd_code\", StringType(), True),\n",
    "    StructField(\"icd_code_type\", StringType(), True),\n",
    "    StructField(\"code_description\", StringType(), True),\n",
    "    StructField(\"inserted_date\", DateType(), True),\n",
    "    StructField(\"updated_date\", DateType(), True),\n",
    "    StructField(\"is_current_flag\", BooleanType(), True)\n",
    "])\n",
    "\n",
    "# Create a DataFrame using the defined schema\n",
    "print(icd_codes)\n",
    "df = spark.createDataFrame(icd_codes, schema=schema)\n",
    "df.write.format(\"parquet\").mode(\"append\").save(\"/mnt/bronze/icd_codes/\")"
   ]
  },
  {
   "cell_type": "code",
   "execution_count": 0,
   "metadata": {
    "application/vnd.databricks.v1+cell": {
     "cellMetadata": {
      "byteLimit": 2048000,
      "rowLimit": 10000
     },
     "inputWidgets": {},
     "nuid": "5a2ce7b7-69d1-4e41-8153-46dbfdd070d7",
     "showTitle": false,
     "tableResultSettingsMap": {},
     "title": ""
    }
   },
   "outputs": [],
   "source": [
    "display(df)"
   ]
  },
  {
   "cell_type": "code",
   "execution_count": 0,
   "metadata": {
    "application/vnd.databricks.v1+cell": {
     "cellMetadata": {},
     "inputWidgets": {},
     "nuid": "3a3b29c8-e7db-4637-aa44-ca043c8bd881",
     "showTitle": false,
     "tableResultSettingsMap": {},
     "title": ""
    }
   },
   "outputs": [],
   "source": []
  }
 ],
 "metadata": {
  "application/vnd.databricks.v1+notebook": {
   "computePreferences": null,
   "dashboards": [],
   "environmentMetadata": {
    "base_environment": "",
    "client": "1"
   },
   "language": "python",
   "notebookMetadata": {
    "pythonIndentUnit": 4
   },
   "notebookName": "ICD Code API Extract",
   "widgets": {}
  },
  "language_info": {
   "name": "python"
  }
 },
 "nbformat": 4,
 "nbformat_minor": 0
}
