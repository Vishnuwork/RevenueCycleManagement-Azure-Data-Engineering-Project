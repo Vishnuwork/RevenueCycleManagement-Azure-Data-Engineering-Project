{
 "cells": [
  {
   "cell_type": "code",
   "execution_count": 0,
   "metadata": {
    "application/vnd.databricks.v1+cell": {
     "cellMetadata": {
      "byteLimit": 2048000,
      "rowLimit": 10000
     },
     "inputWidgets": {},
     "nuid": "5a13f6e7-245c-4ff3-a352-2a8b2b1fe50a",
     "showTitle": false,
     "tableResultSettingsMap": {},
     "title": ""
    }
   },
   "outputs": [],
   "source": [
    "# Databricks notebook source\n",
    "from pyspark.sql import SparkSession, functions as f\n",
    "\n",
    "# Read the CSV file\n",
    "cptcodes_df = spark.read.csv(\"/mnt/landing/cptcodes/*.csv\", header=True)\n",
    "\n",
    "# Replace whitespaces in column names with underscores and convert to lowercase\n",
    "for col in cptcodes_df.columns:\n",
    "    new_col = col.replace(\" \", \"_\").lower()\n",
    "    cptcodes_df = cptcodes_df.withColumnRenamed(col, new_col)\n",
    "cptcodes_df.createOrReplaceTempView(\"cptcodes\")\n",
    "display(cptcodes_df)"
   ]
  },
  {
   "cell_type": "code",
   "execution_count": 0,
   "metadata": {
    "application/vnd.databricks.v1+cell": {
     "cellMetadata": {
      "byteLimit": 2048000,
      "rowLimit": 10000
     },
     "inputWidgets": {},
     "nuid": "e7b67fd6-1e8f-499e-b8a3-462513985fbf",
     "showTitle": false,
     "tableResultSettingsMap": {},
     "title": ""
    }
   },
   "outputs": [],
   "source": [
    "cptcodes_df.write.format(\"parquet\").mode(\"overwrite\").save(\"/mnt/bronze/cpt_codes\")"
   ]
  },
  {
   "cell_type": "code",
   "execution_count": 0,
   "metadata": {
    "application/vnd.databricks.v1+cell": {
     "cellMetadata": {
      "byteLimit": 2048000,
      "rowLimit": 10000
     },
     "inputWidgets": {},
     "nuid": "150fa565-9ceb-4ad0-b44b-ad9abb26505d",
     "showTitle": false,
     "tableResultSettingsMap": {},
     "title": ""
    }
   },
   "outputs": [],
   "source": [
    "cptcodes_df.createOrReplaceTempView(\"cptcodes\")"
   ]
  },
  {
   "cell_type": "code",
   "execution_count": 0,
   "metadata": {
    "application/vnd.databricks.v1+cell": {
     "cellMetadata": {
      "byteLimit": 2048000,
      "implicitDf": true,
      "rowLimit": 10000
     },
     "inputWidgets": {},
     "nuid": "8ee773d5-1691-4c8a-8756-80b9e4700537",
     "showTitle": false,
     "tableResultSettingsMap": {},
     "title": ""
    }
   },
   "outputs": [],
   "source": [
    "%sql\n",
    "SELECT * FROM cptcodes;\n"
   ]
  },
  {
   "cell_type": "code",
   "execution_count": 0,
   "metadata": {
    "application/vnd.databricks.v1+cell": {
     "cellMetadata": {
      "byteLimit": 2048000,
      "implicitDf": true,
      "rowLimit": 10000
     },
     "inputWidgets": {},
     "nuid": "c895ee0d-5106-4171-a1b8-5f8fea0ce739",
     "showTitle": false,
     "tableResultSettingsMap": {},
     "title": ""
    }
   },
   "outputs": [],
   "source": [
    "%sql\n",
    "CREATE OR REPLACE TEMP VIEW quality_checks AS\n",
    "SELECT \n",
    "  cpt_codes,\n",
    "  procedure_code_category,\n",
    "  procedure_code_descriptions,\n",
    "  code_status,\n",
    "  CASE \n",
    "    WHEN cpt_codes IS NULL OR procedure_code_descriptions IS NULL  THEN TRUE\n",
    "    ELSE FALSE\n",
    "  END AS is_quarantined\n",
    "FROM cptcodes;\n",
    "\n",
    "SELECT * FROM quality_checks;"
   ]
  },
  {
   "cell_type": "code",
   "execution_count": 0,
   "metadata": {
    "application/vnd.databricks.v1+cell": {
     "cellMetadata": {
      "byteLimit": 2048000,
      "implicitDf": true,
      "rowLimit": 10000
     },
     "inputWidgets": {},
     "nuid": "f2bba5a4-5b31-4862-bf3e-84d6dda80eba",
     "showTitle": false,
     "tableResultSettingsMap": {},
     "title": ""
    }
   },
   "outputs": [],
   "source": [
    "%sql\n",
    "CREATE TABLE IF NOT EXISTS silver.cptcodes (\n",
    "  cpt_codes STRING,\n",
    "  procedure_code_category STRING,\n",
    "  procedure_code_descriptions STRING,\n",
    "  code_status STRING,\n",
    "  is_quarantined BOOLEAN,\n",
    "  audit_insertdate TIMESTAMP,\n",
    "  audit_modifieddate TIMESTAMP,\n",
    "  is_current BOOLEAN\n",
    ")\n",
    "USING DELTA;"
   ]
  },
  {
   "cell_type": "code",
   "execution_count": 0,
   "metadata": {
    "application/vnd.databricks.v1+cell": {
     "cellMetadata": {
      "byteLimit": 2048000,
      "implicitDf": true,
      "rowLimit": 10000
     },
     "inputWidgets": {},
     "nuid": "180283b1-e5f7-4e36-97cf-b6a808495ddd",
     "showTitle": false,
     "tableResultSettingsMap": {},
     "title": ""
    }
   },
   "outputs": [],
   "source": [
    "%sql\n",
    "-- Update old record to implement SCD Type 2\n",
    "MERGE INTO silver.cptcodes AS target\n",
    "USING quality_checks AS source\n",
    "ON target.cpt_codes = source.cpt_codes AND target.is_current = true\n",
    "WHEN MATCHED AND (\n",
    "  target.procedure_code_category != source.procedure_code_category OR\n",
    "  target.procedure_code_descriptions != source.procedure_code_descriptions OR\n",
    "  target.code_status != source.code_status OR\n",
    "  target.is_quarantined != source.is_quarantined\n",
    ") THEN\n",
    "  UPDATE SET\n",
    "    target.is_current = false,\n",
    "    target.audit_modifieddate = current_timestamp();\n"
   ]
  },
  {
   "cell_type": "code",
   "execution_count": 0,
   "metadata": {
    "application/vnd.databricks.v1+cell": {
     "cellMetadata": {
      "byteLimit": 2048000,
      "implicitDf": true,
      "rowLimit": 10000
     },
     "inputWidgets": {},
     "nuid": "7d7b5171-fcc6-4c7b-8bdb-a23df9fc6707",
     "showTitle": false,
     "tableResultSettingsMap": {},
     "title": ""
    }
   },
   "outputs": [],
   "source": [
    "%sql\n",
    "-- Insert new record to implement SCD Type 2\n",
    "MERGE INTO silver.cptcodes AS target\n",
    "USING quality_checks AS source\n",
    "ON target.cpt_codes = source.cpt_codes AND target.is_current = true\n",
    "WHEN NOT MATCHED THEN\n",
    "  INSERT (\n",
    "    cpt_codes,\n",
    "    procedure_code_category,\n",
    "    procedure_code_descriptions,\n",
    "    code_status,\n",
    "    is_quarantined,\n",
    "    audit_insertdate,\n",
    "    audit_modifieddate,\n",
    "    is_current\n",
    "  )\n",
    "  VALUES (\n",
    "    source.cpt_codes,\n",
    "    source.procedure_code_category,\n",
    "    source.procedure_code_descriptions,\n",
    "    source.code_status,\n",
    "    source.is_quarantined,\n",
    "    current_timestamp(),\n",
    "    current_timestamp(),\n",
    "    true\n",
    "  );\n",
    "\n",
    "SELECT * FROM silver.cptcodes;\n"
   ]
  }
 ],
 "metadata": {
  "application/vnd.databricks.v1+notebook": {
   "computePreferences": null,
   "dashboards": [],
   "environmentMetadata": {
    "base_environment": "",
    "client": "1"
   },
   "language": "python",
   "notebookMetadata": {
    "mostRecentlyExecutedCommandWithImplicitDF": {
     "commandId": 5581704810289719,
     "dataframes": [
      "_sqldf"
     ]
    },
    "pythonIndentUnit": 4
   },
   "notebookName": "CPT Codes",
   "widgets": {}
  },
  "language_info": {
   "name": "python"
  }
 },
 "nbformat": 4,
 "nbformat_minor": 0
}
