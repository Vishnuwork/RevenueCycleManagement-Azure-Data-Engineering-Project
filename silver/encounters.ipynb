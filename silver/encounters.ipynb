{
 "cells": [
  {
   "cell_type": "code",
   "execution_count": 0,
   "metadata": {
    "application/vnd.databricks.v1+cell": {
     "cellMetadata": {
      "byteLimit": 2048000,
      "implicitDf": true,
      "rowLimit": 10000
     },
     "inputWidgets": {},
     "nuid": "fe20dc4f-0660-474e-8d62-ffc30f7a2019",
     "showTitle": false,
     "tableResultSettingsMap": {},
     "title": ""
    }
   },
   "outputs": [],
   "source": [
    "%sql\n",
    "-- Create temporary views for the parquet files\n",
    "CREATE OR REPLACE TEMP VIEW hosa_encounters\n",
    "USING parquet\n",
    "OPTIONS (\n",
    "  path \"dbfs:/mnt/bronze/hosa/encounters\"\n",
    ");\n",
    "\n",
    "CREATE OR REPLACE TEMP VIEW hosb_encounters\n",
    "USING parquet\n",
    "OPTIONS (\n",
    "  path \"dbfs:/mnt/bronze/hosb/encounters\"\n",
    ");\n",
    "\n",
    "-- Union the two views\n",
    "CREATE OR REPLACE TEMP VIEW encounters AS\n",
    "SELECT * FROM hosa_encounters\n",
    "UNION ALL\n",
    "SELECT * FROM hosb_encounters;\n",
    "\n",
    "-- Display the merged data\n",
    "SELECT * FROM encounters;\n"
   ]
  },
  {
   "cell_type": "code",
   "execution_count": 0,
   "metadata": {
    "application/vnd.databricks.v1+cell": {
     "cellMetadata": {
      "byteLimit": 2048000,
      "implicitDf": true,
      "rowLimit": 10000
     },
     "inputWidgets": {},
     "nuid": "2c2e77c6-9fcb-495d-8c9e-358c3d5f32bb",
     "showTitle": false,
     "tableResultSettingsMap": {},
     "title": ""
    }
   },
   "outputs": [],
   "source": [
    "%sql\n",
    "SELECT * FROM encounters;\n"
   ]
  },
  {
   "cell_type": "code",
   "execution_count": 0,
   "metadata": {
    "application/vnd.databricks.v1+cell": {
     "cellMetadata": {
      "byteLimit": 2048000,
      "implicitDf": true,
      "rowLimit": 10000
     },
     "inputWidgets": {},
     "nuid": "e6ec34af-3ed9-40b7-8a71-4904d8c51d78",
     "showTitle": false,
     "tableResultSettingsMap": {},
     "title": ""
    }
   },
   "outputs": [],
   "source": [
    "%sql\n",
    "CREATE OR REPLACE TEMP VIEW quality_checks AS\n",
    "SELECT \n",
    "  concat(EncounterID,'-',datasource) as EncounterID,\n",
    "  EncounterID SRC_EncounterID,\n",
    "  PatientID,\n",
    "  EncounterDate,\n",
    "  EncounterType,\n",
    "  ProviderID,\n",
    "  DepartmentID,\n",
    "  ProcedureCode,\n",
    "  InsertedDate as SRC_InsertedDate,\n",
    "  ModifiedDate as SRC_ModifiedDate,\n",
    "  datasource,\n",
    "  CASE \n",
    "    WHEN EncounterID IS NULL OR PatientID IS NULL THEN TRUE\n",
    "    ELSE FALSE\n",
    "  END AS is_quarantined\n",
    "FROM encounters;\n"
   ]
  },
  {
   "cell_type": "code",
   "execution_count": 0,
   "metadata": {
    "application/vnd.databricks.v1+cell": {
     "cellMetadata": {
      "byteLimit": 2048000,
      "implicitDf": true,
      "rowLimit": 10000
     },
     "inputWidgets": {},
     "nuid": "ac5ea059-b8c6-4a90-ad8c-60e8ca6e1ea0",
     "showTitle": false,
     "tableResultSettingsMap": {},
     "title": ""
    }
   },
   "outputs": [],
   "source": [
    "%sql\n",
    "SELECT * FROM quality_checks\n",
    "WHERE datasource='hos-b';\n"
   ]
  },
  {
   "cell_type": "code",
   "execution_count": 0,
   "metadata": {
    "application/vnd.databricks.v1+cell": {
     "cellMetadata": {
      "byteLimit": 2048000,
      "implicitDf": true,
      "rowLimit": 10000
     },
     "inputWidgets": {},
     "nuid": "d955dcff-f81e-442b-ab7d-ee41f65266e6",
     "showTitle": false,
     "tableResultSettingsMap": {},
     "title": ""
    }
   },
   "outputs": [],
   "source": [
    "%sql\n",
    "CREATE TABLE IF NOT EXISTS rcm_hc_adb_ws.silver.encounters (\n",
    "  EncounterID STRING,\n",
    "  SRC_EncounterID STRING,\n",
    "  PatientID STRING,\n",
    "  EncounterDate DATE,\n",
    "  EncounterType STRING,\n",
    "  ProviderID STRING,\n",
    "  DepartmentID STRING,\n",
    "  ProcedureCode INTEGER,\n",
    "  SRC_InsertedDate DATE,\n",
    "  SRC_ModifiedDate DATE,\n",
    "  datasource STRING,\n",
    "  is_quarantined BOOLEAN,\n",
    "  audit_insertdate TIMESTAMP,\n",
    "  audit_modifieddate TIMESTAMP,\n",
    "  is_current BOOLEAN\n",
    ")\n",
    "USING DELTA;\n"
   ]
  },
  {
   "cell_type": "code",
   "execution_count": 0,
   "metadata": {
    "application/vnd.databricks.v1+cell": {
     "cellMetadata": {
      "byteLimit": 2048000,
      "implicitDf": true,
      "rowLimit": 10000
     },
     "inputWidgets": {},
     "nuid": "67317f61-9022-48d0-af3c-4742db8f7859",
     "showTitle": false,
     "tableResultSettingsMap": {},
     "title": ""
    }
   },
   "outputs": [],
   "source": [
    "%sql\n",
    "-- Update old record to implement SCD Type 2\n",
    "MERGE INTO rcm_hc_adb_ws.silver.encounters AS target\n",
    "USING quality_checks AS source\n",
    "ON target.EncounterID = source.EncounterID AND target.is_current = true\n",
    "WHEN MATCHED AND (\n",
    "  target.SRC_EncounterID != source.SRC_EncounterID OR\n",
    "  target.PatientID != source.PatientID OR\n",
    "  target.EncounterDate != source.EncounterDate OR\n",
    "  target.EncounterType != source.EncounterType OR\n",
    "  target.ProviderID != source.ProviderID OR\n",
    "  target.DepartmentID != source.DepartmentID OR\n",
    "  target.ProcedureCode != source.ProcedureCode OR\n",
    "  target.SRC_InsertedDate != source.SRC_InsertedDate OR\n",
    "  target.SRC_ModifiedDate != source.SRC_ModifiedDate OR\n",
    "  target.datasource != source.datasource OR\n",
    "  target.is_quarantined != source.is_quarantined\n",
    ") THEN\n",
    "  UPDATE SET\n",
    "    target.is_current = false,\n",
    "    target.audit_modifieddate = current_timestamp();\n"
   ]
  },
  {
   "cell_type": "code",
   "execution_count": 0,
   "metadata": {
    "application/vnd.databricks.v1+cell": {
     "cellMetadata": {
      "byteLimit": 2048000,
      "implicitDf": true,
      "rowLimit": 10000
     },
     "inputWidgets": {},
     "nuid": "972ffab6-1735-432d-a749-dc99540db3c2",
     "showTitle": false,
     "tableResultSettingsMap": {},
     "title": ""
    }
   },
   "outputs": [],
   "source": [
    "%sql\n",
    "-- Insert new record to implement SCD Type 2\n",
    "MERGE INTO rcm_hc_adb_ws.silver.encounters AS target\n",
    "USING quality_checks AS source\n",
    "ON target.EncounterID = source.EncounterID AND target.is_current = true\n",
    "WHEN NOT MATCHED THEN\n",
    "  INSERT (\n",
    "    EncounterID,\n",
    "    SRC_EncounterID,\n",
    "    PatientID,\n",
    "    EncounterDate,\n",
    "    EncounterType,\n",
    "    ProviderID,\n",
    "    DepartmentID,\n",
    "    ProcedureCode,\n",
    "    SRC_InsertedDate,\n",
    "    SRC_ModifiedDate,\n",
    "    datasource,\n",
    "    is_quarantined,\n",
    "    audit_insertdate,\n",
    "    audit_modifieddate,\n",
    "    is_current\n",
    "  )\n",
    "  VALUES (\n",
    "    source.EncounterID,\n",
    "    source.SRC_EncounterID,\n",
    "    source.PatientID,\n",
    "    source.EncounterDate,\n",
    "    source.EncounterType,\n",
    "    source.ProviderID,\n",
    "    source.DepartmentID,\n",
    "    source.ProcedureCode,\n",
    "    source.SRC_InsertedDate,\n",
    "    source.SRC_ModifiedDate,\n",
    "    source.datasource,\n",
    "    source.is_quarantined,\n",
    "    current_timestamp(),\n",
    "    current_timestamp(),\n",
    "    true\n",
    "  );\n"
   ]
  },
  {
   "cell_type": "code",
   "execution_count": 0,
   "metadata": {
    "application/vnd.databricks.v1+cell": {
     "cellMetadata": {
      "byteLimit": 2048000,
      "implicitDf": true,
      "rowLimit": 10000
     },
     "inputWidgets": {},
     "nuid": "a7a84548-5a3d-46b1-be16-477c14111d82",
     "showTitle": false,
     "tableResultSettingsMap": {},
     "title": ""
    }
   },
   "outputs": [],
   "source": [
    "%sql\n",
    "SELECT SRC_EncounterID, datasource, COUNT(patientid)\n",
    "FROM rcm_hc_adb_ws.silver.encounters\n",
    "GROUP BY SRC_EncounterID, datasource\n",
    "ORDER BY 3 DESC;\n"
   ]
  }
 ],
 "metadata": {
  "application/vnd.databricks.v1+notebook": {
   "computePreferences": null,
   "dashboards": [],
   "environmentMetadata": {
    "base_environment": "",
    "client": "1"
   },
   "language": "python",
   "notebookMetadata": {
    "mostRecentlyExecutedCommandWithImplicitDF": {
     "commandId": 6352237508637639,
     "dataframes": [
      "_sqldf"
     ]
    },
    "pythonIndentUnit": 4
   },
   "notebookName": "encounters",
   "widgets": {}
  },
  "language_info": {
   "name": "python"
  }
 },
 "nbformat": 4,
 "nbformat_minor": 0
}
