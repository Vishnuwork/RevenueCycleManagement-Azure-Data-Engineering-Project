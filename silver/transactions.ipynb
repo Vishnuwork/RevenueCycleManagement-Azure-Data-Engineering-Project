{
 "cells": [
  {
   "cell_type": "code",
   "execution_count": 0,
   "metadata": {
    "application/vnd.databricks.v1+cell": {
     "cellMetadata": {
      "byteLimit": 2048000,
      "rowLimit": 10000
     },
     "inputWidgets": {},
     "nuid": "a9c86236-2652-457b-8edb-a8f0705ef8b4",
     "showTitle": false,
     "tableResultSettingsMap": {},
     "title": ""
    }
   },
   "outputs": [],
   "source": [
    "from pyspark.sql import SparkSession, functions as f\n",
    "\n",
    "# Reading Hospital A departments data \n",
    "df_hosa = spark.read.parquet(\"/mnt/bronze/hosa/transactions\")\n",
    "\n",
    "# Reading Hospital B departments data \n",
    "df_hosb = spark.read.parquet(\"/mnt/bronze/hosb/transactions\")\n",
    "\n",
    "# Union two departments dataframes\n",
    "df_merged = df_hosa.unionByName(df_hosb)\n",
    "display(df_merged)\n",
    "\n",
    "df_merged.createOrReplaceTempView(\"transactions\")"
   ]
  },
  {
   "cell_type": "code",
   "execution_count": 0,
   "metadata": {
    "application/vnd.databricks.v1+cell": {
     "cellMetadata": {
      "byteLimit": 2048000,
      "rowLimit": 10000
     },
     "inputWidgets": {},
     "nuid": "5a6f83d4-f838-443d-a1b1-98b04a73fe76",
     "showTitle": false,
     "tableResultSettingsMap": {},
     "title": ""
    }
   },
   "outputs": [],
   "source": [
    "display(df_hosb)"
   ]
  },
  {
   "cell_type": "code",
   "execution_count": 0,
   "metadata": {
    "application/vnd.databricks.v1+cell": {
     "cellMetadata": {
      "byteLimit": 2048000,
      "implicitDf": true,
      "rowLimit": 10000
     },
     "inputWidgets": {},
     "nuid": "041293ce-a93c-432e-a3dd-32d77d973293",
     "showTitle": false,
     "tableResultSettingsMap": {},
     "title": ""
    }
   },
   "outputs": [],
   "source": [
    "%sql\n",
    "CREATE OR REPLACE TEMP VIEW quality_checks AS\n",
    "SELECT \n",
    "  concat(TransactionID,'-',datasource) as TransactionID,\n",
    "  TransactionID as SRC_TransactionID,\n",
    "  EncounterID,\n",
    "  PatientID,\n",
    "  ProviderID,\n",
    "  DeptID,\n",
    "  VisitDate,\n",
    "  ServiceDate,\n",
    "  PaidDate,\n",
    "  VisitType,\n",
    "  Amount,\n",
    "  AmountType,\n",
    "  PaidAmount,\n",
    "  ClaimID,\n",
    "  PayorID,\n",
    "  ProcedureCode,\n",
    "  ICDCode,\n",
    "  LineOfBusiness,\n",
    "  MedicaidID,\n",
    "  MedicareID,\n",
    "  InsertDate as SRC_InsertDate,\n",
    "  ModifiedDate as SRC_ModifiedDate,\n",
    "  datasource,\n",
    "  CASE \n",
    "    WHEN EncounterID IS NULL OR PatientID IS NULL OR TransactionID IS NULL OR VisitDate IS NULL THEN TRUE\n",
    "    ELSE FALSE\n",
    "  END AS is_quarantined\n",
    "FROM transactions;\n"
   ]
  },
  {
   "cell_type": "code",
   "execution_count": 0,
   "metadata": {
    "application/vnd.databricks.v1+cell": {
     "cellMetadata": {
      "byteLimit": 2048000,
      "implicitDf": true,
      "rowLimit": 10000
     },
     "inputWidgets": {},
     "nuid": "66bc77b2-7ed2-4a19-afaa-dbcf2919a943",
     "showTitle": false,
     "tableResultSettingsMap": {},
     "title": ""
    }
   },
   "outputs": [],
   "source": [
    "%sql\n",
    "CREATE TABLE IF NOT EXISTS silver.transactions (\n",
    "  TransactionID STRING,\n",
    "  SRC_TransactionID STRING,\n",
    "  EncounterID STRING,\n",
    "  PatientID STRING,\n",
    "  ProviderID STRING,\n",
    "  DeptID STRING,\n",
    "  VisitDate DATE,\n",
    "  ServiceDate DATE,\n",
    "  PaidDate DATE,\n",
    "  VisitType STRING,\n",
    "  Amount DOUBLE,\n",
    "  AmountType STRING,\n",
    "  PaidAmount DOUBLE,\n",
    "  ClaimID STRING,\n",
    "  PayorID STRING,\n",
    "  ProcedureCode INTEGER,\n",
    "  ICDCode STRING,\n",
    "  LineOfBusiness STRING,\n",
    "  MedicaidID STRING,\n",
    "  MedicareID STRING,\n",
    "  SRC_InsertDate DATE,\n",
    "  SRC_ModifiedDate DATE,\n",
    "  datasource STRING,\n",
    "  is_quarantined BOOLEAN,\n",
    "  audit_insertdate TIMESTAMP,\n",
    "  audit_modifieddate TIMESTAMP,\n",
    "  is_current BOOLEAN\n",
    ")\n",
    "USING DELTA;\n"
   ]
  },
  {
   "cell_type": "code",
   "execution_count": 0,
   "metadata": {
    "application/vnd.databricks.v1+cell": {
     "cellMetadata": {
      "byteLimit": 2048000,
      "implicitDf": true,
      "rowLimit": 10000
     },
     "inputWidgets": {},
     "nuid": "5fe2f5a8-b21d-4c13-87e4-4f27fd7c6100",
     "showTitle": false,
     "tableResultSettingsMap": {},
     "title": ""
    }
   },
   "outputs": [],
   "source": [
    "%sql\n",
    "-- Update old record to implement SCD Type 2\n",
    "MERGE INTO silver.transactions AS target\n",
    "USING quality_checks AS source\n",
    "ON target.TransactionID = source.TransactionID AND target.is_current = true\n",
    "WHEN MATCHED\n",
    "AND (\n",
    "  target.SRC_TransactionID != source.SRC_TransactionID\n",
    "  OR target.EncounterID != source.EncounterID\n",
    "  OR target.PatientID != source.PatientID\n",
    "  OR target.ProviderID != source.ProviderID\n",
    "  OR target.DeptID != source.DeptID\n",
    "  OR target.VisitDate != source.VisitDate\n",
    "  OR target.ServiceDate != source.ServiceDate\n",
    "  OR target.PaidDate != source.PaidDate\n",
    "  OR target.VisitType != source.VisitType\n",
    "  OR target.Amount != source.Amount\n",
    "  OR target.AmountType != source.AmountType\n",
    "  OR target.PaidAmount != source.PaidAmount\n",
    "  OR target.ClaimID != source.ClaimID\n",
    "  OR target.PayorID != source.PayorID\n",
    "  OR target.ProcedureCode != source.ProcedureCode\n",
    "  OR target.ICDCode != source.ICDCode\n",
    "  OR target.LineOfBusiness != source.LineOfBusiness\n",
    "  OR target.MedicaidID != source.MedicaidID\n",
    "  OR target.MedicareID != source.MedicareID\n",
    "  OR target.SRC_InsertDate != source.SRC_InsertDate\n",
    "  OR target.SRC_ModifiedDate != source.SRC_ModifiedDate\n",
    "  OR target.datasource != source.datasource\n",
    "  OR target.is_quarantined != source.is_quarantined\n",
    ") THEN\n",
    "  UPDATE\n",
    "  SET\n",
    "    target.is_current = false,\n",
    "    target.audit_modifieddate = current_timestamp();\n"
   ]
  },
  {
   "cell_type": "code",
   "execution_count": 0,
   "metadata": {
    "application/vnd.databricks.v1+cell": {
     "cellMetadata": {
      "byteLimit": 2048000,
      "implicitDf": true,
      "rowLimit": 10000
     },
     "inputWidgets": {},
     "nuid": "7c7d7925-a278-4c4d-a844-50619d816a74",
     "showTitle": false,
     "tableResultSettingsMap": {},
     "title": ""
    }
   },
   "outputs": [],
   "source": [
    "%sql\n",
    "-- Update old record to implement SCD Type 2\n",
    "MERGE INTO silver.transactions AS target\n",
    "USING quality_checks AS source\n",
    "ON target.TransactionID = source.TransactionID AND target.is_current = true\n",
    "WHEN MATCHED\n",
    "AND (\n",
    "  target.SRC_TransactionID != source.SRC_TransactionID\n",
    "  OR target.EncounterID != source.EncounterID\n",
    "  OR target.PatientID != source.PatientID\n",
    "  OR target.ProviderID != source.ProviderID\n",
    "  OR target.DeptID != source.DeptID\n",
    "  OR target.VisitDate != source.VisitDate\n",
    "  OR target.ServiceDate != source.ServiceDate\n",
    "  OR target.PaidDate != source.PaidDate\n",
    "  OR target.VisitType != source.VisitType\n",
    "  OR target.Amount != source.Amount\n",
    "  OR target.AmountType != source.AmountType\n",
    "  OR target.PaidAmount != source.PaidAmount\n",
    "  OR target.ClaimID != source.ClaimID\n",
    "  OR target.PayorID != source.PayorID\n",
    "  OR target.ProcedureCode != source.ProcedureCode\n",
    "  OR target.ICDCode != source.ICDCode\n",
    "  OR target.LineOfBusiness != source.LineOfBusiness\n",
    "  OR target.MedicaidID != source.MedicaidID\n",
    "  OR target.MedicareID != source.MedicareID\n",
    "  OR target.SRC_InsertDate != source.SRC_InsertDate\n",
    "  OR target.SRC_ModifiedDate != source.SRC_ModifiedDate\n",
    "  OR target.datasource != source.datasource\n",
    "  OR target.is_quarantined != source.is_quarantined\n",
    ") THEN\n",
    "  UPDATE\n",
    "  SET\n",
    "    target.is_current = false,\n",
    "    target.audit_modifieddate = current_timestamp();\n"
   ]
  }
 ],
 "metadata": {
  "application/vnd.databricks.v1+notebook": {
   "computePreferences": null,
   "dashboards": [],
   "environmentMetadata": {
    "base_environment": "",
    "client": "1"
   },
   "language": "python",
   "notebookMetadata": {
    "mostRecentlyExecutedCommandWithImplicitDF": {
     "commandId": 5581704810289726,
     "dataframes": [
      "_sqldf"
     ]
    },
    "pythonIndentUnit": 4
   },
   "notebookName": "transactions",
   "widgets": {}
  },
  "language_info": {
   "name": "python"
  }
 },
 "nbformat": 4,
 "nbformat_minor": 0
}
