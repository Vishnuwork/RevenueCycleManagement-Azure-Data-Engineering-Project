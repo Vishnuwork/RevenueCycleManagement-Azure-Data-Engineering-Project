{
 "cells": [
  {
   "cell_type": "code",
   "execution_count": 0,
   "metadata": {
    "application/vnd.databricks.v1+cell": {
     "cellMetadata": {
      "byteLimit": 2048000,
      "rowLimit": 10000
     },
     "inputWidgets": {},
     "nuid": "7884b024-5d2f-474a-8ab2-771bc9995659",
     "showTitle": false,
     "tableResultSettingsMap": {},
     "title": ""
    }
   },
   "outputs": [],
   "source": [
    "from pyspark.sql import SparkSession, functions as f\n",
    "\n",
    "# Reading Hospital A departments data \n",
    "df_hosa = spark.read.parquet(\"/mnt/bronze/hosa/departments\")\n",
    "\n",
    "# Reading Hospital B departments data \n",
    "df_hosb = spark.read.parquet(\"/mnt/bronze/hosb/departments\")\n",
    "\n",
    "# Union two departments dataframes\n",
    "df_merged = df_hosa.unionByName(df_hosb)\n",
    "\n",
    "# Create the dept_id column and rename deptid to src_dept_id\n",
    "df_merged = df_merged.withColumn(\"SRC_Dept_id\", f.col(\"deptid\")) \\\n",
    "                     .withColumn(\"Dept_id\", f.concat(f.col(\"deptid\"), f.lit('-'), f.col(\"datasource\"))) \\\n",
    "                     .drop(\"deptid\")\n",
    "\n",
    "df_merged.createOrReplaceTempView(\"departments\")\n"
   ]
  },
  {
   "cell_type": "code",
   "execution_count": 0,
   "metadata": {
    "application/vnd.databricks.v1+cell": {
     "cellMetadata": {
      "byteLimit": 2048000,
      "implicitDf": true,
      "rowLimit": 10000
     },
     "inputWidgets": {},
     "nuid": "b1fecdb8-091e-4f0e-ac0f-1da2ef684fd6",
     "showTitle": false,
     "tableResultSettingsMap": {},
     "title": ""
    }
   },
   "outputs": [],
   "source": [
    "%sql\n",
    "CREATE TABLE IF NOT EXISTS rcm_hc_adb_ws.silver.departments (\n",
    "  Dept_Id STRING,\n",
    "  SRC_Dept_Id STRING,\n",
    "  Name STRING,\n",
    "  datasource STRING,\n",
    "  is_quarantined BOOLEAN\n",
    ")\n",
    "USING DELTA;\n"
   ]
  },
  {
   "cell_type": "code",
   "execution_count": 0,
   "metadata": {
    "application/vnd.databricks.v1+cell": {
     "cellMetadata": {
      "byteLimit": 2048000,
      "implicitDf": true,
      "rowLimit": 10000
     },
     "inputWidgets": {},
     "nuid": "85f5a88b-4324-44d9-bf40-a34d8d7e3866",
     "showTitle": false,
     "tableResultSettingsMap": {},
     "title": ""
    }
   },
   "outputs": [],
   "source": [
    "%sql\n",
    "\n",
    "TRUNCATE TABLE rcm_hc_adb_ws.silver.departments;"
   ]
  },
  {
   "cell_type": "code",
   "execution_count": 0,
   "metadata": {
    "application/vnd.databricks.v1+cell": {
     "cellMetadata": {
      "byteLimit": 2048000,
      "implicitDf": true,
      "rowLimit": 10000
     },
     "inputWidgets": {},
     "nuid": "b47bd57c-bd4f-4030-9640-578df8cd6824",
     "showTitle": false,
     "tableResultSettingsMap": {},
     "title": ""
    }
   },
   "outputs": [],
   "source": [
    "%sql\n",
    "INSERT INTO rcm_hc_adb_ws.silver.departments\n",
    "SELECT \n",
    "  Dept_Id,\n",
    "  SRC_Dept_Id,\n",
    "  Name,\n",
    "  datasource,\n",
    "  CASE \n",
    "    WHEN SRC_Dept_Id IS NULL OR Name IS NULL THEN TRUE\n",
    "    ELSE FALSE\n",
    "  END AS is_quarantined\n",
    "FROM departments;\n"
   ]
  },
  {
   "cell_type": "code",
   "execution_count": 0,
   "metadata": {
    "application/vnd.databricks.v1+cell": {
     "cellMetadata": {
      "byteLimit": 2048000,
      "implicitDf": true,
      "rowLimit": 10000
     },
     "inputWidgets": {},
     "nuid": "211c30f6-d613-4b16-af24-da7469e01106",
     "showTitle": false,
     "tableResultSettingsMap": {},
     "title": ""
    }
   },
   "outputs": [],
   "source": [
    "%sql\n",
    "SELECT * FROM rcm_hc_adb_ws.silver.departments;\n"
   ]
  },
  {
   "cell_type": "code",
   "execution_count": 0,
   "metadata": {
    "application/vnd.databricks.v1+cell": {
     "cellMetadata": {
      "byteLimit": 2048000,
      "rowLimit": 10000
     },
     "inputWidgets": {},
     "nuid": "cce0f5dd-dc96-496e-923c-9d983f4cd73e",
     "showTitle": false,
     "tableResultSettingsMap": {},
     "title": ""
    }
   },
   "outputs": [],
   "source": []
  }
 ],
 "metadata": {
  "application/vnd.databricks.v1+notebook": {
   "computePreferences": null,
   "dashboards": [],
   "environmentMetadata": {
    "base_environment": "",
    "client": "1"
   },
   "language": "python",
   "notebookMetadata": {
    "mostRecentlyExecutedCommandWithImplicitDF": {
     "commandId": 6352237508637629,
     "dataframes": [
      "_sqldf"
     ]
    },
    "pythonIndentUnit": 4
   },
   "notebookName": "departments",
   "widgets": {}
  },
  "language_info": {
   "name": "python"
  }
 },
 "nbformat": 4,
 "nbformat_minor": 0
}
