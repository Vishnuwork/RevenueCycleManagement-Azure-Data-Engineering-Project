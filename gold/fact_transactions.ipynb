{
 "cells": [
  {
   "cell_type": "code",
   "execution_count": 0,
   "metadata": {
    "application/vnd.databricks.v1+cell": {
     "cellMetadata": {
      "byteLimit": 2048000,
      "implicitDf": true,
      "rowLimit": 10000
     },
     "inputWidgets": {},
     "nuid": "be87d68d-3040-47de-97c6-de5766d538dc",
     "showTitle": false,
     "tableResultSettingsMap": {},
     "title": ""
    }
   },
   "outputs": [],
   "source": [
    "%sql\n",
    "-- Create the fact_transactions table if it doesn't exist\n",
    "CREATE TABLE IF NOT EXISTS gold.fact_transactions (\n",
    "    TransactionID STRING,\n",
    "    SRC_TransactionID STRING,\n",
    "    EncounterID STRING,\n",
    "    FK_PatientID STRING,\n",
    "    FK_ProviderID STRING,\n",
    "    FK_DeptID STRING,\n",
    "    ICDCode STRING,\n",
    "    ProcedureCode STRING,\n",
    "    VisitType STRING,\n",
    "    ServiceDate DATE,\n",
    "    PaidDate DATE,\n",
    "    Amount DOUBLE,\n",
    "    PaidAmount DOUBLE,\n",
    "    AmountType STRING,\n",
    "    ClaimID STRING,\n",
    "    datasource STRING,\n",
    "    refreshed_at TIMESTAMP\n",
    ");\n",
    "\n"
   ]
  },
  {
   "cell_type": "code",
   "execution_count": 0,
   "metadata": {
    "application/vnd.databricks.v1+cell": {
     "cellMetadata": {
      "byteLimit": 2048000,
      "implicitDf": true,
      "rowLimit": 10000
     },
     "inputWidgets": {},
     "nuid": "477d567c-72f2-4c87-8694-db24ae234aa2",
     "showTitle": false,
     "tableResultSettingsMap": {},
     "title": ""
    }
   },
   "outputs": [],
   "source": [
    "%sql\n",
    "-- Truncate the fact_transactions table\n",
    "TRUNCATE TABLE gold.fact_transactions;"
   ]
  },
  {
   "cell_type": "code",
   "execution_count": 0,
   "metadata": {
    "application/vnd.databricks.v1+cell": {
     "cellMetadata": {
      "byteLimit": 2048000,
      "implicitDf": true,
      "rowLimit": 10000
     },
     "inputWidgets": {},
     "nuid": "dcf45226-49cf-4e31-a692-aacc421a6424",
     "showTitle": false,
     "tableResultSettingsMap": {},
     "title": ""
    }
   },
   "outputs": [],
   "source": [
    "%sql\n",
    "\n",
    "INSERT INTO gold.fact_transactions\n",
    "SELECT \n",
    "    t.TransactionID, \n",
    "    t.SRC_TransactionID,\n",
    "    t.EncounterID,\n",
    "    CONCAT(t.PatientID, '-', t.datasource) AS FK_PatientID,\n",
    "    CASE \n",
    "        WHEN t.datasource = 'hos-a' THEN CONCAT('H1-', t.providerID) \n",
    "        ELSE CONCAT('H2-', t.providerID) \n",
    "    END AS FK_ProviderID,\n",
    "    CONCAT(t.DeptID, '-', t.datasource) AS FK_DeptID,\n",
    "    t.ICDCode,\n",
    "    t.ProcedureCode AS CPT_Code,\n",
    "    t.VisitType,\n",
    "    t.ServiceDate,\n",
    "    t.PaidDate,\n",
    "    t.Amount AS Charge_Amt,\n",
    "    t.PaidAmount AS Paid_Amt,\n",
    "    t.AmountType,\n",
    "    t.ClaimID,\n",
    "    t.datasource,\n",
    "    CURRENT_TIMESTAMP()\n",
    "FROM silver.transactions t\n",
    "WHERE t.is_current = TRUE AND t.is_quarantined = FALSE;"
   ]
  },
  {
   "cell_type": "code",
   "execution_count": 0,
   "metadata": {
    "application/vnd.databricks.v1+cell": {
     "cellMetadata": {
      "byteLimit": 2048000,
      "rowLimit": 10000
     },
     "inputWidgets": {},
     "nuid": "9207f137-8acc-4e9b-a32a-3a24aa19f5a5",
     "showTitle": false,
     "tableResultSettingsMap": {},
     "title": ""
    }
   },
   "outputs": [],
   "source": []
  }
 ],
 "metadata": {
  "application/vnd.databricks.v1+notebook": {
   "computePreferences": null,
   "dashboards": [],
   "environmentMetadata": {
    "base_environment": "",
    "client": "1"
   },
   "language": "python",
   "notebookMetadata": {
    "mostRecentlyExecutedCommandWithImplicitDF": {
     "commandId": 5671556246387041,
     "dataframes": [
      "_sqldf"
     ]
    },
    "pythonIndentUnit": 4
   },
   "notebookName": "fact_transactions",
   "widgets": {}
  },
  "language_info": {
   "name": "python"
  }
 },
 "nbformat": 4,
 "nbformat_minor": 0
}
